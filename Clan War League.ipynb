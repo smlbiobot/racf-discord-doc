{
 "cells": [
  {
   "cell_type": "code",
   "execution_count": 4,
   "metadata": {},
   "outputs": [
    {
     "name": "stdout",
     "output_type": "stream",
     "text": [
      "74660\n"
     ]
    }
   ],
   "source": [
    "upgrades = [1, 2, 4, 10, 20, 50, 100, 200, 400, 800, 1000, 2000]\n",
    "\n",
    "common = 12 * sum(upgrades[:12])\n",
    "rare   = 11 * sum(upgrades[:10])\n",
    "epic   = 11 * sum(upgrades[:7])\n",
    "legend =  6 * sum(upgrades[:4])\n",
    "\n",
    "print(common + rare + epic + legend)"
   ]
  },
  {
   "cell_type": "code",
   "execution_count": null,
   "metadata": {},
   "outputs": [],
   "source": []
  }
 ],
 "metadata": {
  "kernelspec": {
   "display_name": "Python 3",
   "language": "python",
   "name": "python3"
  },
  "language_info": {
   "codemirror_mode": {
    "name": "ipython",
    "version": 3
   },
   "file_extension": ".py",
   "mimetype": "text/x-python",
   "name": "python",
   "nbconvert_exporter": "python",
   "pygments_lexer": "ipython3",
   "version": "3.7.0"
  }
 },
 "nbformat": 4,
 "nbformat_minor": 2
}
